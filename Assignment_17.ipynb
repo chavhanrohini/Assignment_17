{
 "cells": [
  {
   "cell_type": "markdown",
   "id": "38f7a56b",
   "metadata": {},
   "source": [
    "## 1. Assign the value 7 to the variable `guess_me`. Then, write the conditional tests (if, else, and elif) to print the string 'too low' if `guess_me` is less than 7, 'too high' if greater than 7, and 'just right' if equal to 7.\n",
    "\n",
    "   Answer:\n"
   ]
  },
  {
   "cell_type": "code",
   "execution_count": 1,
   "id": "01cfb4e0",
   "metadata": {},
   "outputs": [
    {
     "name": "stdout",
     "output_type": "stream",
     "text": [
      "just right\n"
     ]
    }
   ],
   "source": [
    "guess_me = 7\n",
    "if guess_me < 7:\n",
    "    print('too low')\n",
    "elif guess_me > 7:\n",
    "    print('too high')\n",
    "else:\n",
    "    print('just right')\n"
   ]
  },
  {
   "cell_type": "markdown",
   "id": "f6f4183c",
   "metadata": {},
   "source": [
    "## 2. Assign the value 7 to the variable `guess_me` and the value 1 to the variable `start`. Write a while loop that compares `start` with `guess_me`. Print 'too low' if `start` is less than `guess_me`. If `start` equals `guess_me`, print 'found it!' and exit the loop. If `start` is greater than `guess_me`, print 'oops' and exit the loop. Increment `start` at the end of the loop.\n",
    "\n",
    "   Answer:\n"
   ]
  },
  {
   "cell_type": "code",
   "execution_count": 2,
   "id": "d429c1bf",
   "metadata": {},
   "outputs": [
    {
     "name": "stdout",
     "output_type": "stream",
     "text": [
      "too low\n",
      "too low\n",
      "too low\n",
      "too low\n",
      "too low\n",
      "too low\n",
      "found it!\n"
     ]
    }
   ],
   "source": [
    "guess_me = 7\n",
    "start = 1\n",
    "while start <= guess_me:\n",
    "    if start < guess_me:\n",
    "        print('too low')\n",
    "    elif start == guess_me:\n",
    "        print('found it!')\n",
    "        break\n",
    "    else:\n",
    "        print('oops')\n",
    "        break\n",
    "    start += 1\n"
   ]
  },
  {
   "cell_type": "markdown",
   "id": "73a493fa",
   "metadata": {},
   "source": [
    "## 3. Print the following values of the list `[3, 2, 1, 0]` using a for loop.\n",
    "\n",
    "   Answer:\n"
   ]
  },
  {
   "cell_type": "code",
   "execution_count": 8,
   "id": "49e3cd65",
   "metadata": {},
   "outputs": [
    {
     "name": "stdout",
     "output_type": "stream",
     "text": [
      "3\n",
      "2\n",
      "1\n",
      "0\n"
     ]
    }
   ],
   "source": [
    "for num in [3, 2, 1, 0]:\n",
    "    print(num)\n"
   ]
  },
  {
   "cell_type": "markdown",
   "id": "66cfae3c",
   "metadata": {},
   "source": [
    "## 4. Use a list comprehension to make a list of the even numbers in `range(10)`.\n",
    "\n",
    "   Answer:\n"
   ]
  },
  {
   "cell_type": "code",
   "execution_count": 10,
   "id": "1d8c7f64",
   "metadata": {},
   "outputs": [
    {
     "name": "stdout",
     "output_type": "stream",
     "text": [
      "[0, 2, 4, 6, 8]\n"
     ]
    }
   ],
   "source": [
    "even_numbers = [num for num in range(10) if num % 2 == 0]\n",
    "print(even_numbers)\n"
   ]
  },
  {
   "cell_type": "markdown",
   "id": "38aa157a",
   "metadata": {},
   "source": [
    "## 5. Use a dictionary comprehension to create the dictionary `squares`. Use `range(10)` to return the keys, and use the square of each key as its value.\n",
    "\n",
    "   Answer:\n"
   ]
  },
  {
   "cell_type": "code",
   "execution_count": 11,
   "id": "9fa75bd4",
   "metadata": {},
   "outputs": [
    {
     "name": "stdout",
     "output_type": "stream",
     "text": [
      "{0: 0, 1: 1, 2: 4, 3: 9, 4: 16, 5: 25, 6: 36, 7: 49, 8: 64, 9: 81}\n"
     ]
    }
   ],
   "source": [
    "squares = {num: num ** 2 for num in range(10)}\n",
    "print(squares)\n"
   ]
  },
  {
   "cell_type": "markdown",
   "id": "dbd282ef",
   "metadata": {},
   "source": [
    "## 6. Construct the set `odd` from the odd numbers in the range using a set comprehension.\n",
    "\n",
    "   Answer:\n"
   ]
  },
  {
   "cell_type": "code",
   "execution_count": 12,
   "id": "10ee1273",
   "metadata": {},
   "outputs": [
    {
     "name": "stdout",
     "output_type": "stream",
     "text": [
      "{1, 3, 5, 7, 9}\n"
     ]
    }
   ],
   "source": [
    "odd = {num for num in range(10) if num % 2 != 0}\n",
    "print(odd)\n"
   ]
  },
  {
   "cell_type": "markdown",
   "id": "bfff1c3e",
   "metadata": {},
   "source": [
    "## 7. Use a generator comprehension to return the string 'Got ' and a number for the numbers in `range(10)`. Iterate through this by using a for loop.\n",
    "\n",
    "   Answer:\n"
   ]
  },
  {
   "cell_type": "code",
   "execution_count": 13,
   "id": "a104a4f4",
   "metadata": {},
   "outputs": [
    {
     "name": "stdout",
     "output_type": "stream",
     "text": [
      "Got 0\n",
      "Got 1\n",
      "Got 2\n",
      "Got 3\n",
      "Got 4\n",
      "Got 5\n",
      "Got 6\n",
      "Got 7\n",
      "Got 8\n",
      "Got 9\n"
     ]
    }
   ],
   "source": [
    "generator = ('Got ' + str(num) for num in range(10))\n",
    "for item in generator:\n",
    "    print(item)\n"
   ]
  },
  {
   "cell_type": "markdown",
   "id": "108cab3c",
   "metadata": {},
   "source": [
    "## 8. Define a function called `good` that returns the list `['Harry', 'Ron', 'Hermione']`.\n",
    "\n",
    "   Answer:\n"
   ]
  },
  {
   "cell_type": "code",
   "execution_count": 15,
   "id": "42428537",
   "metadata": {},
   "outputs": [],
   "source": [
    "def good():\n",
    "    return ['Harry', 'Ron', 'Hermione']\n"
   ]
  },
  {
   "cell_type": "code",
   "execution_count": 16,
   "id": "18e4c481",
   "metadata": {},
   "outputs": [
    {
     "data": {
      "text/plain": [
       "['Harry', 'Ron', 'Hermione']"
      ]
     },
     "execution_count": 16,
     "metadata": {},
     "output_type": "execute_result"
    }
   ],
   "source": [
    "good()"
   ]
  },
  {
   "cell_type": "markdown",
   "id": "a63acc12",
   "metadata": {},
   "source": [
    "## 9. Define a generator function called `get_odds` that returns the odd numbers from `range(10)`. Use a for loop to find and print the third value returned.\n",
    "\n",
    "   Answer:\n"
   ]
  },
  {
   "cell_type": "code",
   "execution_count": 17,
   "id": "f21ee601",
   "metadata": {},
   "outputs": [
    {
     "name": "stdout",
     "output_type": "stream",
     "text": [
      "5\n"
     ]
    }
   ],
   "source": [
    "def get_odds():\n",
    "    for num in range(1, 10, 2):\n",
    "        yield num\n",
    "\n",
    "# Using a for loop to find and print the third value\n",
    "count = 0\n",
    "for odd in get_odds():\n",
    "    count += 1\n",
    "    if count == 3:\n",
    "        print(odd)\n",
    "        break\n"
   ]
  },
  {
   "cell_type": "code",
   "execution_count": 18,
   "id": "5401eaee",
   "metadata": {},
   "outputs": [
    {
     "data": {
      "text/plain": [
       "5"
      ]
     },
     "execution_count": 18,
     "metadata": {},
     "output_type": "execute_result"
    }
   ],
   "source": [
    "odd"
   ]
  },
  {
   "cell_type": "markdown",
   "id": "3743f5fc",
   "metadata": {},
   "source": [
    "## 10. Define an exception called `OopsException`. Raise this exception to see what happens. Then write the code to catch this exception and print 'Caught an oops'.\n",
    "\n",
    "    Answer:\n"
   ]
  },
  {
   "cell_type": "code",
   "execution_count": 19,
   "id": "1f2bd1c9",
   "metadata": {},
   "outputs": [
    {
     "name": "stdout",
     "output_type": "stream",
     "text": [
      "Caught an oops: Something went wrong\n"
     ]
    }
   ],
   "source": [
    "class OopsException(Exception):\n",
    "    pass\n",
    "\n",
    "try:\n",
    "    raise OopsException(\"Something went wrong\")\n",
    "except OopsException as e:\n",
    "    print('Caught an oops:', e)\n"
   ]
  },
  {
   "cell_type": "markdown",
   "id": "0053f236",
   "metadata": {},
   "source": [
    "## 11. Use `zip()` to make a dictionary called `movies` that pairs these lists: `titles = ['Creature of Habit', 'Crewel Fate']` and `plots = ['A nun turns into a monster', 'A haunted yarn shop']`.\n",
    "\n",
    "    Answer:\n"
   ]
  },
  {
   "cell_type": "code",
   "execution_count": 21,
   "id": "2f03fc2d",
   "metadata": {},
   "outputs": [
    {
     "name": "stdout",
     "output_type": "stream",
     "text": [
      "{'Creature of Habit': 'A nun turns into a monster', 'Crewel Fate': 'A haunted yarn shop'}\n"
     ]
    }
   ],
   "source": [
    "titles = ['Creature of Habit', 'Crewel Fate']\n",
    "plots = ['A nun turns into a monster', 'A haunted yarn shop']\n",
    "movies = dict(zip(titles, plots))\n",
    "print(movies)\n"
   ]
  },
  {
   "cell_type": "code",
   "execution_count": null,
   "id": "c1f871f8",
   "metadata": {},
   "outputs": [],
   "source": []
  }
 ],
 "metadata": {
  "kernelspec": {
   "display_name": "Python 3 (ipykernel)",
   "language": "python",
   "name": "python3"
  },
  "language_info": {
   "codemirror_mode": {
    "name": "ipython",
    "version": 3
   },
   "file_extension": ".py",
   "mimetype": "text/x-python",
   "name": "python",
   "nbconvert_exporter": "python",
   "pygments_lexer": "ipython3",
   "version": "3.9.12"
  }
 },
 "nbformat": 4,
 "nbformat_minor": 5
}
